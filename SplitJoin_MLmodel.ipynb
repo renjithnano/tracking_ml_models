{
 "cells": [
  {
   "cell_type": "code",
   "execution_count": 1,
   "metadata": {},
   "outputs": [],
   "source": [
    "import pickle\n",
    "import os"
   ]
  },
  {
   "cell_type": "markdown",
   "metadata": {},
   "source": [
    "### Split the bigger ml models into smaller chunks"
   ]
  },
  {
   "cell_type": "code",
   "execution_count": 5,
   "metadata": {},
   "outputs": [],
   "source": [
    "def split(source, dest_folder, write_size):\n",
    "    # Make a destination folder if it doesn't exist yet\n",
    "    if not os.path.exists(dest_folder):\n",
    "        os.mkdir(dest_folder)\n",
    "    else:\n",
    "        # Otherwise clean out all files in the destination folder\n",
    "        for file in os.listdir(dest_folder):\n",
    "            os.remove(os.path.join(dest_folder, file))\n",
    "    partnum = 0\n",
    "    \n",
    "    # Open the source file in binary mode\n",
    "    input_file = open(source, 'rb')\n",
    "    while True:\n",
    "        # Read a portion of the input file\n",
    "        chunk = input_file.read(write_size)\n",
    "        \n",
    "        # End the loop if we have hit EOF\n",
    "        if not chunk:\n",
    "            break\n",
    "        \n",
    "        # Increment partnum\n",
    "        partnum += 1\n",
    "        \n",
    "        # Create a new file name\n",
    "        filename = './Model_Files/final_model' + str(partnum)\n",
    "        \n",
    "        # Create a destination file\n",
    "        dest_file = open(filename, 'wb')\n",
    "        \n",
    "        # Write to this portion of the destination file\n",
    "        dest_file.write(chunk)\n",
    "        # Explicitly close \n",
    "        dest_file.close()\n",
    "    # Explicitly close\n",
    "    input_file.close()\n",
    "    # Return the number of files created by the split\n",
    "    return partnum"
   ]
  },
  {
   "cell_type": "code",
   "execution_count": 6,
   "metadata": {},
   "outputs": [
    {
     "data": {
      "text/plain": [
       "13"
      ]
     },
     "execution_count": 6,
     "metadata": {},
     "output_type": "execute_result"
    }
   ],
   "source": [
    "split(source=\"./model.pth\", write_size=20000000, dest_folder='./Model_Files/')"
   ]
  },
  {
   "cell_type": "markdown",
   "metadata": {},
   "source": [
    "### Join the smaller chunks bact to the orginal file"
   ]
  },
  {
   "cell_type": "code",
   "execution_count": 10,
   "metadata": {},
   "outputs": [],
   "source": [
    "def join(source_dir, dest_file, read_size):\n",
    "    # Create a new destination file\n",
    "    output_file = open(dest_file, 'wb')\n",
    "     \n",
    "    # Get a list of the file parts\n",
    "    parts = ['final_model1','final_model2','final_model3','final_model4','final_model5','final_model6','final_model7',\n",
    "            'final_model8','final_model9','final_model10','final_model11','final_model12','final_model13']\n",
    " \n",
    "    # Go through each portion one by one\n",
    "    for file in parts:\n",
    "         \n",
    "        # Assemble the full path to the file\n",
    "        path = source_dir+file\n",
    "         \n",
    "        # Open the part\n",
    "        input_file = open(path, 'rb')\n",
    "         \n",
    "        while True:\n",
    "            # Read all bytes of the part\n",
    "            bytes = input_file.read(read_size)\n",
    "             \n",
    "            # Break out of loop if we are at end of file\n",
    "            if not bytes:\n",
    "                break\n",
    "                 \n",
    "            # Write the bytes to the output file\n",
    "            output_file.write(bytes)\n",
    "             \n",
    "        # Close the input file\n",
    "        input_file.close()\n",
    "         \n",
    "    # Close the output file\n",
    "    output_file.close()\n"
   ]
  },
  {
   "cell_type": "code",
   "execution_count": 11,
   "metadata": {},
   "outputs": [],
   "source": [
    "join(source_dir='./Model_Files/', dest_file=\"./Combined_Model.p\", read_size = 50000000)"
   ]
  },
  {
   "cell_type": "code",
   "execution_count": null,
   "metadata": {},
   "outputs": [],
   "source": []
  }
 ],
 "metadata": {
  "kernelspec": {
   "display_name": "Python 3",
   "language": "python",
   "name": "python3"
  },
  "language_info": {
   "codemirror_mode": {
    "name": "ipython",
    "version": 3
   },
   "file_extension": ".py",
   "mimetype": "text/x-python",
   "name": "python",
   "nbconvert_exporter": "python",
   "pygments_lexer": "ipython3",
   "version": "3.5.6"
  }
 },
 "nbformat": 4,
 "nbformat_minor": 2
}
